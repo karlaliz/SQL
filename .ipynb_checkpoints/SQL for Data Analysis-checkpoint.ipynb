{
 "cells": [
  {
   "cell_type": "markdown",
   "metadata": {},
   "source": [
    "# SQL for Data Analysis.\n",
    "A class to work with SQl in Postgress and learn to use simple querys to more advances querys."
   ]
  },
  {
   "cell_type": "markdown",
   "metadata": {},
   "source": [
    "Entity Relationship Diagrams\n",
    "An entity relationship diagram (ERD) is a common way to view data in a database. Below is the ERD for the database we will use from Parch & Posey. These diagrams help you visualize the data you are analyzing including:\n",
    "\n",
    "The names of the tables.\n",
    "The columns in each table.\n",
    "The way the tables work together."
   ]
  },
  {
   "cell_type": "markdown",
   "metadata": {},
   "source": [
    "## The key to SQL is understanding statements. A few statements include: ##\n",
    "\n",
    "CREATE TABLE is a statement that creates a new table in a database.\n",
    "DROP TABLE is a statement that removes a table in a database.\n",
    "SELECT allows you to read data and display it. This is called a query.\n",
    "The SELECT statement is the common statement used by analysts, and you will be learning all about them throughout this course!"
   ]
  },
  {
   "cell_type": "markdown",
   "metadata": {},
   "source": [
    "## SELECT FROM ##\n",
    "Here you were introduced to the SQL command that will be used in every query you write: SELECT ... FROM ....\n",
    "\n",
    "SELECT indicates which column(s) you want to be given the data for.\n",
    "\n",
    "FROM specifies from which table(s) you want to select the columns. Notice the columns need to exist in this table."
   ]
  },
  {
   "cell_type": "markdown",
   "metadata": {},
   "source": [
    "## LIMIT ##\n",
    "We have already seen the SELECT (to choose columns) and FROM (to choose tables) statements. The LIMIT statement is useful when you want to see just the first few rows of a table. This can be much faster for loading than if we load the entire dataset."
   ]
  },
  {
   "cell_type": "markdown",
   "metadata": {},
   "source": [
    "# BASIC SQL"
   ]
  },
  {
   "cell_type": "code",
   "execution_count": null,
   "metadata": {
    "collapsed": true
   },
   "outputs": [],
   "source": [
    "#select column from table with especific numeber of rows ( often use to take a look of the data inested of run all the infarmation)\n",
    "SELECT occurred_at, account_id, channel\n",
    "FROM web_events\n",
    "LIMIT (10);"
   ]
  },
  {
   "cell_type": "markdown",
   "metadata": {},
   "source": [
    "## ORDER BY\n",
    "The ORDER BY statement allows us to sort our results using the data in any column. The ORDER BY statement always comes in a query after the SELECT and FROM statements, but before the LIMIT statement. If you are using the LIMIT statement, it will always appear last. As you learn additional commands, the order of these statements will matter more."
   ]
  },
  {
   "cell_type": "code",
   "execution_count": 1,
   "metadata": {},
   "outputs": [
    {
     "ename": "SyntaxError",
     "evalue": "invalid syntax (<ipython-input-1-62fe64507e3e>, line 2)",
     "output_type": "error",
     "traceback": [
      "\u001b[0;36m  File \u001b[0;32m\"<ipython-input-1-62fe64507e3e>\"\u001b[0;36m, line \u001b[0;32m2\u001b[0m\n\u001b[0;31m    SELECT id, occurred_at, total_amt_usd\u001b[0m\n\u001b[0m            ^\u001b[0m\n\u001b[0;31mSyntaxError\u001b[0m\u001b[0;31m:\u001b[0m invalid syntax\n"
     ]
    }
   ],
   "source": [
    "#Write a query to return the 10 earliest orders in the orders table. Include the id, occurred_at, and total_amt_usd.\n",
    "SELECT id, occurred_at, total_amt_usd\n",
    "FROM orders\n",
    "ORDER BY occurred_at DESC\n",
    "LIMIT 10;"
   ]
  },
  {
   "cell_type": "code",
   "execution_count": null,
   "metadata": {
    "collapsed": true
   },
   "outputs": [],
   "source": [
    "#Write a query to return the top 5 orders in terms of largest total_amt_usd. Include the id, account_id, and total_amt_usd\n",
    "SELECT total_amt_usd, id, account_id \n",
    "FROM orders\n",
    "ORDER BY total_amt_usd DESC\n",
    "LIMIT 5;"
   ]
  },
  {
   "cell_type": "code",
   "execution_count": null,
   "metadata": {
    "collapsed": true
   },
   "outputs": [],
   "source": [
    "#Write a query to return the lowest 20 orders in terms of smallest total_amt_usd. Include the id, account_id, and total_amt_usd.\n",
    "SELECT total_amt_usd, id, account_id\n",
    "FROM orders\n",
    "ORDER BY total_amt_usd\n",
    "LIMIT 20;"
   ]
  },
  {
   "cell_type": "markdown",
   "metadata": {},
   "source": [
    "Here, we saw that we can ORDER BY more than one column at a time. When you provide a list of columns in an ORDER BY command, the sorting occurs using the leftmost column in your list first, then the next column from the left, and so on. We still have the ability to flip the way we order using DESC."
   ]
  },
  {
   "cell_type": "code",
   "execution_count": null,
   "metadata": {
    "collapsed": true
   },
   "outputs": [],
   "source": [
    "#Write a query that displays the order ID, account ID, and total dollar amount for all the orders, sorted first by the account ID (in ascending order), and then by the total dollar amount (in descending order).\n",
    "SELECT id, \n",
    "account_id, \n",
    "total_amt_usd\n",
    "FROM orders\n",
    "ORDER BY account_id ASC, total_amt_usd DESC;"
   ]
  },
  {
   "cell_type": "code",
   "execution_count": null,
   "metadata": {
    "collapsed": true
   },
   "outputs": [],
   "source": [
    "#Now write a query that again displays order ID, account ID, and total dollar amount for each order, but this time sorted first by total dollar amount (in descending order), and then by account ID (in ascending order).\n",
    "SELECT id,\n",
    "account_id\n",
    "total_amt_usd\n",
    "FROM orders\n",
    "ORDER BY total_amt_usd DESC,account_id ASC"
   ]
  },
  {
   "cell_type": "markdown",
   "metadata": {},
   "source": [
    "## WHERE\n",
    "Using the WHERE statement, we can display subsets of tables based on conditions that must be met. You can also think of the WHERE command as filtering the data.\n",
    "\n",
    "Some common operators that are useful with the WHERE' statement.\n",
    "\n",
    "Common symbols used in WHERE statements include:\n",
    "\n",
    "> (greater than)\n",
    "\n",
    "< (less than)\n",
    "\n",
    ">= (greater than or equal to)\n",
    "\n",
    "<= (less than or equal to)\n",
    "\n",
    "= (equal to)\n",
    "\n",
    "!= (not equal to)"
   ]
  },
  {
   "cell_type": "code",
   "execution_count": null,
   "metadata": {
    "collapsed": true
   },
   "outputs": [],
   "source": [
    "#Pulls the first 5 rows and all columns from the orders table that have a dollar amount of gloss_amt_usd greater than or equal to 1000.\n",
    "SELECT *\n",
    "FROM orders\n",
    "WHERE gloss_amt_usd >=1000\n",
    "LIMIT 5;"
   ]
  },
  {
   "cell_type": "code",
   "execution_count": 4,
   "metadata": {},
   "outputs": [
    {
     "ename": "SyntaxError",
     "evalue": "invalid syntax (<ipython-input-4-e216a7252c25>, line 2)",
     "output_type": "error",
     "traceback": [
      "\u001b[0;36m  File \u001b[0;32m\"<ipython-input-4-e216a7252c25>\"\u001b[0;36m, line \u001b[0;32m2\u001b[0m\n\u001b[0;31m    Pulls the first 10 rows and all columns from the orders table that have a total_amt_usd less than 500.\u001b[0m\n\u001b[0m            ^\u001b[0m\n\u001b[0;31mSyntaxError\u001b[0m\u001b[0;31m:\u001b[0m invalid syntax\n"
     ]
    }
   ],
   "source": [
    "#Pulls the first 10 rows and all columns from the orders table that have a total_amt_usd less than 500.\n",
    "Pulls the first 10 rows and all columns from the orders table that have a total_amt_usd less than 500."
   ]
  },
  {
   "cell_type": "markdown",
   "metadata": {},
   "source": [
    "## WHERE WITH NO NUMERIC DATA\n",
    "The WHERE statement can also be used with non-numeric data. We can use the = and != operators here. You need to be sure to use single quotes (just be careful if you have quotes in the original text) with the text data, not double quotes.\n",
    "\n",
    "Commonly when we are using WHERE with non-numeric data fields, we use the LIKE, NOT, or IN operators. We will see those before the end of this lesson!"
   ]
  },
  {
   "cell_type": "code",
   "execution_count": null,
   "metadata": {
    "collapsed": true
   },
   "outputs": [],
   "source": [
    "#Filter the accounts table to include the company name, website, and the primary point of contact (primary_poc) just for the Exxon Mobil company in the accounts table.\n",
    "SELECT name, website, primary_poc\n",
    "FROM accounts\n",
    "WHERE name = 'Exxon Mobil';"
   ]
  },
  {
   "cell_type": "markdown",
   "metadata": {},
   "source": [
    "## DERIVED COLUMNS\n",
    "Creating a new column that is a combination of existing columns is known as a derived column (or \"calculated\" or \"computed\" column). Usually you want to give a name, or \"alias,\" to your new column using the AS keyword.\n",
    "\n",
    "This derived column, and its alias, are generally only temporary, existing just for the duration of your query. The next time you run a query and access this table, the new column will not be there.\n",
    "\n",
    "If you are deriving the new column from existing columns using a mathematical expression, then these familiar mathematical operators will be useful:\n",
    "\n",
    "* (Multiplication)\n",
    "+ (Addition)\n",
    "- (Subtraction)\n",
    " / (Division)\n",
    " \n",
    "Consider this example:\n",
    "\n",
    "SELECT id, (standard_amt_usd/total_amt_usd)*100 AS std_percent, total_amt_usd\n",
    "FROM orders\n",
    "LIMIT 10;\n",
    "Here we divide the standard paper dollar amount by the total order amount to find the standard paper percent for the order, and use the AS keyword to name this new column \"std_percent.\" You can run this query on the next page if you'd like, to see the output.\n",
    "\n",
    "Order of Operations\n",
    "Remember PEMDAS from math class to help remember the order of operations? If not, check out this link as a reminder. The same order of operations applies when using arithmetic operators in SQL.\n",
    "\n",
    "The following two statements have very different end results:\n",
    "\n",
    "Standard_qty / standard_qty + gloss_qty + poster_qty\n",
    "standard_qty / (standard_qty + gloss_qty + poster_qty)\n",
    "It is likely that you mean to do the calculation as written in statement number 2!"
   ]
  },
  {
   "cell_type": "code",
   "execution_count": null,
   "metadata": {
    "collapsed": true
   },
   "outputs": [],
   "source": [
    "#Create a column that divides the standard_amt_usd by the standard_qty to find the unit price for standard paper for each order. Limit the results to the first 10 orders, and include the id and account_id fields. \n",
    "SELECT id, account_id, standard_amt_usd/standard_qty AS price_stantard_paper\n",
    "FROM  orders \n",
    "LIMIT 10;"
   ]
  },
  {
   "cell_type": "code",
   "execution_count": null,
   "metadata": {
    "collapsed": true
   },
   "outputs": [],
   "source": [
    "#Write a query that finds the percentage of revenue that comes from poster paper for each order. You will need to use only the columns that end with _usd. (Try to do this without using the total column.) Display the id and account_id fields also. NOTE - you will receive an error with the correct solution to this question. This occurs because at least one of the values in the data creates a division by zero in your formula. You will learn later in the course how to fully handle this issue. For now, you can just limit your calculations to the first 10 orders, as we did in question #1, and you'll avoid that set of data that causes the problem.\n",
    "SELECT id, account_id, poster_amt_usd, poster_amt_usd/(standard_amt_usd + gloss_amt_usd + poster_amt_usd) AS poster_percentage\n",
    "FROM orders\n",
    "LIMIT 10;"
   ]
  },
  {
   "cell_type": "markdown",
   "metadata": {},
   "source": [
    "## INTRODUCTION TO LOGICAL OPERATORS \n",
    "In the next concepts, you will be learning about Logical Operators. Logical Operators include:\n",
    "\n",
    "LIKE\n",
    "This allows you to perform operations similar to using WHERE and =, but for cases when you might not know exactly what you are looking for.\n",
    "\n",
    "IN\n",
    "This allows you to perform operations similar to using WHERE and =, but for more than one condition.\n",
    "\n",
    "NOT\n",
    "This is used with IN and LIKE to select all of the rows NOT LIKE or NOT IN a certain condition.\n",
    "\n",
    "AND & BETWEEN\n",
    "These allow you to combine operations where all combined conditions must be true.\n",
    "\n",
    "OR\n",
    "This allow you to combine operations where at least one of the combined conditions must be true.\n",
    "\n",
    "Don't worry if this doesn't make total sense right now. You will get practice with each in the next sections."
   ]
  },
  {
   "cell_type": "markdown",
   "metadata": {},
   "source": [
    "### LIKE\n",
    "The LIKE operator is extremely useful for working with text. You will use LIKE within a WHERE clause. The LIKE operator is frequently used with %. The % tells us that we might want any number of characters leading up to a particular set of characters or following a certain set of characters, as we saw with the google syntax above. Remember you will need to use single quotes for the text you pass to the LIKE operator, because of this lower and uppercase letters are not the same within the string. Searching for 'T' is not the same as searching for 't'. In other SQL environments (outside the classroom), you can use either single or double quotes."
   ]
  },
  {
   "cell_type": "code",
   "execution_count": null,
   "metadata": {
    "collapsed": true
   },
   "outputs": [],
   "source": [
    "#All the companies whose names start with 'C'. \n",
    "SELECT *\n",
    "FROM accounts\n",
    "WHERE name LIKE 'C%'"
   ]
  },
  {
   "cell_type": "code",
   "execution_count": null,
   "metadata": {
    "collapsed": true
   },
   "outputs": [],
   "source": [
    "#All companies whose names contain the string 'one' somewhere in the name.\n",
    "SELECT *\n",
    "FROM accounts\n",
    "WHERE name LIKE '%one%'"
   ]
  },
  {
   "cell_type": "code",
   "execution_count": null,
   "metadata": {
    "collapsed": true
   },
   "outputs": [],
   "source": [
    "#All companies whose names end with 's'.\n",
    "SELECT *\n",
    "FROM accounts\n",
    "WHERE name LIKE '%s';"
   ]
  },
  {
   "cell_type": "markdown",
   "metadata": {},
   "source": [
    "## IN\n",
    "The IN operator is useful for working with both numeric and text columns. This operator allows you to use an =, but for more than one item of that particular column. We can check one, two or many column values for which we want to pull data, but all within the same query. In the upcoming concepts, you will see the OR operator that would also allow us to perform these tasks, but the IN operator is a cleaner way to write these queries."
   ]
  },
  {
   "cell_type": "code",
   "execution_count": null,
   "metadata": {
    "collapsed": true
   },
   "outputs": [],
   "source": [
    "#Use the accounts table to find the account name, primary_poc, and sales_rep_id for Walmart, Target, and Nordstrom.\n",
    "SELECT name, primary_poc, sales_rep_id\n",
    "FROM accounts\n",
    "WHERE name IN ('Walmart', 'Target', 'Nordstrom');"
   ]
  },
  {
   "cell_type": "code",
   "execution_count": null,
   "metadata": {
    "collapsed": true
   },
   "outputs": [],
   "source": [
    "#Use the web_events table to find all information regarding individuals who were contacted via the channel of organic or adwords.\n",
    "SELECT *\n",
    "FROM web_events\n",
    "WHERE channel IN ('organic', 'adwords');"
   ]
  },
  {
   "cell_type": "markdown",
   "metadata": {},
   "source": [
    "### NOT\n",
    "The NOT operator is an extremely useful operator for working with the previous two operators we introduced: IN and LIKE. By specifying NOT LIKE or NOT IN, we can grab all of the rows that do not meet a particular criteria."
   ]
  },
  {
   "cell_type": "code",
   "execution_count": null,
   "metadata": {
    "collapsed": true
   },
   "outputs": [],
   "source": [
    "#Use the accounts table to find the account name, primary poc, and sales rep id for all stores except Walmart, Target, and Nordstrom.\n",
    "SELECT name, primary_poc, sales_rep_id\n",
    "FROM accounts\n",
    "WHERE name NOT IN ('Walmart', 'Target', 'Nordstrom');"
   ]
  },
  {
   "cell_type": "code",
   "execution_count": null,
   "metadata": {
    "collapsed": true
   },
   "outputs": [],
   "source": [
    "#Use the web_events table to find all information regarding individuals who were contacted via any method except using organic or adwords methods.\n",
    "SELECT *\n",
    "FROM web_events\n",
    "WHERE channel NOT IN ('organic', 'adwords');"
   ]
  },
  {
   "cell_type": "code",
   "execution_count": null,
   "metadata": {
    "collapsed": true
   },
   "outputs": [],
   "source": [
    "#All the companies whose names do not start with 'C'.\n",
    "SELECT *\n",
    "FROM accounts\n",
    "WHERE name NOT LIKE 'C%'"
   ]
  },
  {
   "cell_type": "code",
   "execution_count": null,
   "metadata": {
    "collapsed": true
   },
   "outputs": [],
   "source": [
    "#All companies whose names do not end with 's'.\n",
    "SELECT *\n",
    "FROM accounts\n",
    "WHERE name NOT LIKE '%one%'"
   ]
  },
  {
   "cell_type": "markdown",
   "metadata": {},
   "source": [
    "### AND \n",
    "The AND operator is used within a WHERE statement to consider more than one logical clause at a time. Each time you link a new statement with an AND, you will need to specify the column you are interested in looking at. You may link as many statements as you would like to consider at the same time. This operator works with all of the operations we have seen so far including arithmetic operators (+, *, -, /). LIKE, IN, and NOT logic can also be linked together using the AND operator.\n",
    "\n",
    "### BETWEEN\n",
    "\n",
    "BETWEEN Operator\n",
    "Sometimes we can make a cleaner statement using BETWEEN than we can using AND. Particularly this is true when we are using the same column for different parts of our AND statement. In the previous video, we probably should have used BETWEEN.\n",
    "\n",
    "Instead of writing :\n",
    "\n",
    "WHERE column >= 6 AND column <= 10\n",
    "we can instead write, equivalently:\n",
    "\n",
    "WHERE column BETWEEN 6 AND 10"
   ]
  },
  {
   "cell_type": "code",
   "execution_count": null,
   "metadata": {
    "collapsed": true
   },
   "outputs": [],
   "source": [
    "#Write a query that returns all the orders where the standard_qty is over 1000, the poster_qty is 0, and the gloss_qty is 0.\n",
    "SELECT *\n",
    "FROM orders\n",
    "WHERE standard_qty >1000 AND poster_qty = 0 AND gloss_qty=0;"
   ]
  },
  {
   "cell_type": "code",
   "execution_count": null,
   "metadata": {
    "collapsed": true
   },
   "outputs": [],
   "source": [
    "#Using the accounts table, find all the companies whose names do not start with 'C' and end with 's'.\n",
    "SELECT name\n",
    "FROM accounts\n",
    "WHERE name NOT LIKE 'C%' AND name NOT LIKE '%s';"
   ]
  },
  {
   "cell_type": "code",
   "execution_count": null,
   "metadata": {
    "collapsed": true
   },
   "outputs": [],
   "source": [
    "#When you use the BETWEEN operator in SQL, do the results include the values of your endpoints, or not? Figure out the answer to this important question by writing a query that displays the order date and gloss_qty data for all orders where gloss_qty is between 24 and 29. Then look at your output to see if the BETWEEN operator included the begin and end values or not.\n",
    "SELECT gloss_qty, occurred_at\n",
    "FROM orders\n",
    "WHERE gloss_qty BETWEEN 24 AND 29;\n",
    "##OR\n",
    "SELECT gloss_qty, occurred_at\n",
    "FROM orders\n",
    "WHERE gloss_qty >= 24 AND gloss_qty <= 29;\n"
   ]
  },
  {
   "cell_type": "code",
   "execution_count": null,
   "metadata": {
    "collapsed": true
   },
   "outputs": [],
   "source": [
    "#Use the web_events table to find all information regarding individuals who were contacted via the organic or adwords channels, and started their account at any point in 2016, sorted from newest to oldest.\n",
    "SELECT *\n",
    "FROM web_events\n",
    "WHERE channel IN ('organic', 'adwords') AND occurred_at BETWEEN '2016-01-01' AND '2017-01-01' \n",
    "ORDER BY occurred_at ASC;"
   ]
  },
  {
   "cell_type": "markdown",
   "metadata": {},
   "source": [
    "### OR\n",
    "\n",
    "Similar to the AND operator, the OR operator can combine multiple statements. Each time you link a new statement with an OR, you will need to specify the column you are interested in looking at. You may link as many statements as you would like to consider at the same time. This operator works with all of the operations we have seen so far including arithmetic operators (+, *, -, /), LIKE, IN, NOT, AND, and BETWEEN logic can all be linked together using the OR operator.\n",
    "\n",
    "When combining multiple of these operations, we frequently might need to use parentheses to assure that logic we want to perform is being executed correctly. The video below shows an example of one of these situations."
   ]
  },
  {
   "cell_type": "code",
   "execution_count": null,
   "metadata": {
    "collapsed": true
   },
   "outputs": [],
   "source": [
    "#Find list of orders ids where either gloss_qty or poster_qty is greater than 4000. Only include the id field in the resulting table.\n",
    "SELECT id\n",
    "FROM orders\n",
    "WHERE gloss_qty > 4000 OR poster_qty >4000;"
   ]
  },
  {
   "cell_type": "code",
   "execution_count": null,
   "metadata": {
    "collapsed": true
   },
   "outputs": [],
   "source": [
    "#Write a query that returns a list of orders where the standard_qty is zero and either the gloss_qty or poster_qty is over 1000.\n",
    "SELECT *\n",
    "FROM orders\n",
    "WHERE standard_qty = 0 AND (gloss_qty <1000 OR poster_qty <1000);"
   ]
  },
  {
   "cell_type": "code",
   "execution_count": null,
   "metadata": {
    "collapsed": true
   },
   "outputs": [],
   "source": [
    "#Find all the company names that start with a 'C' or 'W', and the primary contact contains 'ana' or 'Ana', but it doesn't contain 'eana'.\n",
    "SELECT *\n",
    "FROM accounts\n",
    "WHERE (name LIKE 'C%' OR name LIKE 'W%') \n",
    "AND (primary_poc LIKE '%ana%' OR primary_poc LIKE '%Ana%') \n",
    "AND primary_poc NOT LIKE '%eana%'"
   ]
  },
  {
   "cell_type": "markdown",
   "metadata": {},
   "source": [
    "### RECAP\n",
    "Commands\n",
    "You have already learned a lot about writing code in SQL! Let's take a moment to recap all that we have covered before moving on:\n",
    "\n",
    "        Statement\t     How to Use It\t              Other Details\n",
    "\n",
    "        SELECT\t         SELECT Col1, Col2, ...\t      Provide the columns you want\n",
    "        FROM\t         FROM Table\t                  Provide the table where the columns exist\n",
    "        LIMIT\t         LIMIT 10\t                  Limits based number of rows returned\n",
    "        ORDER BY\t     ORDER BY Col\t              Orders table based on the column. Used with DESC.\n",
    "        WHERE\t         WHERE Col > 5\t              A conditional statement to filter your results\n",
    "        LIKE\t         WHERE Col LIKE '%me%'\t      Only pulls rows where column has 'me' within the text\n",
    "        IN\t             WHERE Col IN ('Y', 'N')\t  A filter for only rows with column of 'Y' or 'N'\n",
    "        NOT\t             WHERE Col NOT IN ('Y', 'N')  NOT is frequently used with LIKE and IN\n",
    "        AND\t             WHERE Col1 > 5 AND Col2 < 3  Filter rows where two or more conditions must be true\n",
    "        OR\t             WHERE Col1 > 5 OR Col2 < 3\t  Filter rows where at least one condition must be true\n",
    "        BETWEEN\t         WHERE Col BETWEEN 3 AND 5\t  Often easier syntax than using an AND\n"
   ]
  },
  {
   "cell_type": "markdown",
   "metadata": {},
   "source": [
    "# SQL JOINS"
   ]
  },
  {
   "cell_type": "markdown",
   "metadata": {},
   "source": [
    "## Database Normalization\n",
    "When creating a database, it is really important to think about how data will be stored. This is known as normalization, and it is a huge part of most SQL classes. If you are in charge of setting up a new database, it is important to have a thorough understanding of database normalization.\n",
    "\n",
    "There are essentially three ideas that are aimed at database normalization:\n",
    "\n",
    "Are the tables storing logical groupings of the data?\n",
    "Can I make changes in a single location, rather than in many tables for the same information?\n",
    "Can I access and manipulate data quickly and efficiently?"
   ]
  },
  {
   "cell_type": "markdown",
   "metadata": {},
   "source": [
    "## JOIN\n",
    "The whole purpose of JOIN statements is to allow us to pull data from more than one table at a time.\n",
    "\n",
    "Again - JOINs are useful for allowing us to pull data from multiple tables. This is both simple and powerful all at the same time.\n",
    "\n",
    "With the addition of the JOIN statement to our toolkit, we will also be adding the ON statement.\n",
    "\n",
    "We use ON clause to specify a JOIN condition which is a logical statement to combine the table in FROM and JOIN statements."
   ]
  },
  {
   "cell_type": "markdown",
   "metadata": {},
   "source": [
    "### What to Notice\n",
    "We are able to pull data from two tables:\n",
    "\n",
    "orders\n",
    "accounts\n",
    "Above, we are only pulling data from the orders table since in the SELECT statement we only reference columns from the orders table.\n",
    "\n",
    "The ON statement holds the two columns that get linked across the two tables. This will be the focus in the next concepts.\n",
    "\n",
    "Additional Information\n",
    "If we wanted to only pull individual elements from either the orders or accounts table, we can do this by using the exact same information in the FROM and ON statements. However, in your SELECT statement, you will need to know how to specify tables and columns in the SELECT statement:\n",
    "\n",
    "The table name is always before the period.\n",
    "The column you want from that table is always after the period."
   ]
  },
  {
   "cell_type": "code",
   "execution_count": null,
   "metadata": {
    "collapsed": true
   },
   "outputs": [],
   "source": [
    "#Try pulling all the data from the accounts table, and all the data from the orders table.\n",
    "SELECT *\n",
    "FROM orders\n",
    "JOIN accounts\n",
    "ON orders.account_id = accounts.id;"
   ]
  },
  {
   "cell_type": "code",
   "execution_count": 8,
   "metadata": {},
   "outputs": [
    {
     "ename": "IndentationError",
     "evalue": "unindent does not match any outer indentation level (<tokenize>, line 5)",
     "output_type": "error",
     "traceback": [
      "\u001b[0;36m  File \u001b[0;32m\"<tokenize>\"\u001b[0;36m, line \u001b[0;32m5\u001b[0m\n\u001b[0;31m    accounts.website,\u001b[0m\n\u001b[0m    ^\u001b[0m\n\u001b[0;31mIndentationError\u001b[0m\u001b[0;31m:\u001b[0m unindent does not match any outer indentation level\n"
     ]
    }
   ],
   "source": [
    "#Try pulling standard_qty, gloss_qty, and poster_qty from the orders table, and the website and the primary_poc from the accounts table.\n",
    "SELECT orders.standard_qty, \n",
    "\torders.gloss_qty, \n",
    "\torders.poster_qty,\n",
    "    accounts.website,\n",
    "    accounts.primary_poc\n",
    "FROM orders\n",
    "JOIN accounts\n",
    "ON orders.account_id = accounts.id;"
   ]
  },
  {
   "cell_type": "markdown",
   "metadata": {},
   "source": [
    "### Entity Relationship Diagrams\n",
    "\n",
    "From the last lesson, you might remember that an entity relationship diagram (ERD) is a common way to view data in a database. It is also a key element to understanding how we can pull data from multiple tables.\n",
    "\n",
    "\n",
    "### Tables & Columns\n",
    "In the Parch & Posey database there are 5 tables:\n",
    "\n",
    "* web_events\n",
    "* accounts\n",
    "* orders\n",
    "* sales_reps\n",
    "* region\n",
    "\n",
    "You will notice some of the columns in the tables have PK or FK next to the column name, while other columns don't have a label at all.\n",
    "\n",
    "If you look a little closer, you might notice that the PK is associated with the first column in every table. The PK here stands for primary key. A primary key exists in every table, and it is a column that has a unique value for every row.\n",
    "\n",
    "If you look at the first few rows of any of the tables in our database, you will notice that this first, PK, column is always unique. For this database it is always called id, but that is not true of all databases.\n",
    "\n",
    "You can explore the database ERD below by clicking on the table names in the left menu of the workspace below. Or you can query the first row of these tables in the workspace to see some examples of the content inside of each field."
   ]
  },
  {
   "cell_type": "markdown",
   "metadata": {},
   "source": [
    "### Keys\n",
    "Primary Key (PK)\n",
    "A primary key is a unique column in a particular table. This is the first column in each of our tables. Here, those columns are all called id, but that doesn't necessarily have to be the name. It is common that the primary key is the first column in our tables in most databases.\n",
    "\n",
    "Foreign Key (FK)\n",
    "A foreign key is a column in one table that is a primary key in a different table"
   ]
  },
  {
   "cell_type": "markdown",
   "metadata": {},
   "source": [
    "### JOIN More than Two Tables\n",
    "\n",
    "This same logic can actually assist in joining more than two tables together. Look at the three tables below.\n",
    "\n",
    "\n",
    "The Code\n",
    "If we wanted to join all three of these tables, we could use the same logic. The code below pulls all of the data from all of the joined tables.\n",
    "\n",
    "SELECT *\n",
    "FROM web_events\n",
    "JOIN accounts\n",
    "ON web_events.account_id = accounts.id\n",
    "JOIN orders\n",
    "ON accounts.id = orders.account_id\n",
    "Alternatively, we can create a SELECT statement that could pull specific columns from any of the three tables. Again, our JOIN holds a table, and ON is a link for our PK to equal the FK.\n",
    "\n",
    "To pull specific columns, the SELECT statement will need to specify the table that you are wishing to pull the column from, as well as the column name. We could pull only three columns in the above by changing the select statement to the below, but maintaining the rest of the JOIN information:\n",
    "\n",
    "SELECT web_events.channel, accounts.name, orders.total\n",
    "We could continue this same process to link all of the tables if we wanted. For efficiency reasons, we probably don't want to do this unless we actually need information from all of the tables."
   ]
  },
  {
   "cell_type": "markdown",
   "metadata": {},
   "source": [
    "### ALIAS\n",
    "When we JOIN tables together, it is nice to give each table an alias. Frequently an alias is just the first letter of the table name. You actually saw something similar for column names in the Arithmetic Operators concept.\n",
    "\n",
    "Example:\n",
    "\n",
    "FROM tablename AS t1\n",
    "JOIN tablename2 AS t2\n",
    "Before, you saw something like:\n",
    "\n",
    "SELECT col1 + col2 AS total, col3\n",
    "Frequently, you might also see these statements without the AS statement. Each of the above could be written in the following way instead, and they would still produce the exact same results:\n",
    "\n",
    "FROM tablename t1\n",
    "JOIN tablename2 t2\n",
    "and\n",
    "\n",
    "SELECT col1 + col2 total, col3\n",
    "Aliases for Columns in Resulting Table\n",
    "While aliasing tables is the most common use case. It can also be used to alias the columns selected to have the resulting table reflect a more readable name.\n",
    "\n",
    "Example:\n",
    "\n",
    "Select t1.column1 aliasname, t2.column2 aliasname2\n",
    "FROM tablename AS t1\n",
    "JOIN tablename2 AS t2\n",
    "The alias name fields will be what shows up in the returned table instead of t1.column1 and t2.column2\n",
    "\n",
    "aliasname\taliasname2\n",
    "example row\texample row\n",
    "example row\texample row"
   ]
  },
  {
   "cell_type": "markdown",
   "metadata": {},
   "source": []
  },
  {
   "cell_type": "code",
   "execution_count": null,
   "metadata": {
    "collapsed": true
   },
   "outputs": [],
   "source": [
    "#Provide a table for all web_events associated with account name of Walmart. There should be three columns. Be sure to include the primary_poc, time of the event, and the channel for each event. Additionally, you might choose to add a fourth column to assure only Walmart events were chosen. \n",
    "SELECT a.name, a.primary_poc, w.occurred_at, w.channel\n",
    "FROM accounts a\n",
    "JOIN web_events w\n",
    "ON w.account_id = a.id\n",
    "WHERE name LIKE 'Walmart%'\n",
    "LIMIT 4;"
   ]
  },
  {
   "cell_type": "code",
   "execution_count": null,
   "metadata": {
    "collapsed": true
   },
   "outputs": [],
   "source": [
    "#Provide a table that provides the region for each sales_rep along with their associated accounts. Your final table should include three columns: the region name, the sales rep name, and the account name. Sort the accounts alphabetically (A-Z) according to account name. \n",
    "SELECT r.name AS region_name, s.name AS sales_name, a.name AS account_name\n",
    "FROM accounts AS a\n",
    "JOIN sales_reps AS s\n",
    "ON  a.sales_rep_id = s.id\n",
    "JOIN region AS r\n",
    "ON s.region_id = r.id\n",
    "ORDER BY a.name "
   ]
  },
  {
   "cell_type": "code",
   "execution_count": null,
   "metadata": {
    "collapsed": true
   },
   "outputs": [],
   "source": [
    "#Provide the name for each region for every order, as well as the account name and the unit price they paid (total_amt_usd/total) for the order. Your final table should have 3 columns: region name, account name, and unit price. A few accounts have 0 for total, so I divided by (total + 0.01) to assure not dividing by zero.\n",
    "SELECT r.name region, a.name account, \n",
    "       o.total_amt_usd/(o.total + 0.01) AS unit_price\n",
    "FROM region r\n",
    "JOIN sales_reps s\n",
    "ON s.region_id = r.id\n",
    "JOIN accounts a\n",
    "ON a.sales_rep_id = s.id\n",
    "JOIN orders o\n",
    "ON o.account_id = a.id;"
   ]
  },
  {
   "cell_type": "markdown",
   "metadata": {},
   "source": [
    "### JOIN Check In\n",
    "\n",
    "### INNER JOINs\n",
    "\n",
    "Notice every JOIN we have done up to this point has been an INNER JOIN. That is, we have always pulled rows only if they exist as a match across two tables.\n",
    "\n",
    "Our new JOINs allow us to pull rows that might only exist in one of the two tables. This will introduce a new data type called NULL. This data type will be discussed in detail in the next lesson.\n",
    "\n",
    "Quick Note\n",
    "You might see the SQL syntax of\n",
    "\n",
    "LEFT OUTER JOIN\n",
    "OR\n",
    "\n",
    "RIGHT OUTER JOIN\n",
    "These are the exact same commands as the LEFT JOIN and RIGHT JOIN we learned about in the previous video.\n",
    "\n",
    "OUTER JOINS\n",
    "The last type of join is a full outer join. This will return the inner join result set, as well as any unmatched rows from either of the two tables being joined.\n",
    "\n",
    "Again this returns rows that do not match one another from the two tables. The use cases for a full outer join are very rare.\n",
    "\n",
    "You can see examples of outer joins at the link here and a description of the rare use cases here. We will not spend time on these given the few instances you might need to use them.\n",
    "\n",
    "Similar to the above, you might see the language FULL OUTER JOIN, which is the same as OUTER JOIN."
   ]
  },
  {
   "cell_type": "code",
   "execution_count": null,
   "metadata": {
    "collapsed": true
   },
   "outputs": [],
   "source": []
  }
 ],
 "metadata": {
  "kernelspec": {
   "display_name": "Python 3",
   "language": "python",
   "name": "python3"
  },
  "language_info": {
   "codemirror_mode": {
    "name": "ipython",
    "version": 3
   },
   "file_extension": ".py",
   "mimetype": "text/x-python",
   "name": "python",
   "nbconvert_exporter": "python",
   "pygments_lexer": "ipython3",
   "version": "3.6.3"
  }
 },
 "nbformat": 4,
 "nbformat_minor": 2
}
